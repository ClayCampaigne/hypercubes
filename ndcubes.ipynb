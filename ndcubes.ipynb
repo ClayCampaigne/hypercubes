{
 "cells": [
  {
   "cell_type": "code",
   "execution_count": 1,
   "metadata": {},
   "outputs": [],
   "source": [
    "# Import the hypercubes module\n",
    "from hypercubes import HypercubeWidget, NDCube, create_hypercube_widget"
   ]
  },
  {
   "cell_type": "code",
   "execution_count": 2,
   "metadata": {},
   "outputs": [
    {
     "data": {
      "application/vnd.jupyter.widget-view+json": {
       "model_id": "9d2b02bb4bf44bbfbe260a5d1db73435",
       "version_major": 2,
       "version_minor": 0
      },
      "text/plain": [
       "VBox(children=(Figure(animation_duration=100, axes=[Axis(scale=LinearScale(max=2.0, min=-2.0)), Axis(orientati…"
      ]
     },
     "execution_count": 2,
     "metadata": {},
     "output_type": "execute_result"
    }
   ],
   "source": [
    "# Create and display the interactive hypercube widget\n",
    "# You can change the dimensions dynamically using the slider.\n",
    "widget = create_hypercube_widget(ndims=4)\n",
    "widget.display()"
   ]
  },
  {
   "cell_type": "code",
   "execution_count": 3,
   "metadata": {},
   "outputs": [
    {
     "data": {
      "application/vnd.jupyter.widget-view+json": {
       "model_id": "0f495250a9fa4c0090f0b18eb64c3d3e",
       "version_major": 2,
       "version_minor": 0
      },
      "text/plain": [
       "VBox(children=(Figure(animation_duration=100, axes=[Axis(scale=LinearScale(max=2.0, min=-2.0)), Axis(orientati…"
      ]
     },
     "execution_count": 3,
     "metadata": {},
     "output_type": "execute_result"
    }
   ],
   "source": [
    "# Example: Create a higher-dimensional hypercube (6D)\n",
    "widget_6d = create_hypercube_widget(ndims=6, figsize=(8, 8))\n",
    "widget_6d.display()"
   ]
  },
  {
   "cell_type": "code",
   "execution_count": 4,
   "metadata": {},
   "outputs": [
    {
     "name": "stdout",
     "output_type": "stream",
     "text": [
      "5D cube has 80 edges\n",
      "First edge coordinates: (array([-0.70710678, -0.5       ]), array([-0.70710678, -0.5       ]))\n"
     ]
    }
   ],
   "source": [
    "# Example: Direct use of the NDCube class for custom operations\n",
    "import numpy as np\n",
    "from hypercubes.utils import rotmat\n",
    "\n",
    "# Create a 5D cube manually\n",
    "my_cube = NDCube(ndims=5, center=True)\n",
    "\n",
    "# Apply some custom transformations\n",
    "rotation_matrix = rotmat(0, 2, np.pi/4, 5)  # Rotate dimension 0 into dimension 2\n",
    "my_cube.lintransform(rotation_matrix)\n",
    "\n",
    "# Get the projected edges\n",
    "projected_edges = my_cube.parproject()\n",
    "print(f\"5D cube has {len(projected_edges)} edges\")\n",
    "print(f\"First edge coordinates: {projected_edges[0]}\")"
   ]
  }
 ],
 "metadata": {
  "@webio": {
   "lastCommId": null,
   "lastKernelId": null
  },
  "kernelspec": {
   "display_name": "Python 3 (ipykernel)",
   "language": "python",
   "name": "python3"
  },
  "language_info": {
   "codemirror_mode": {
    "name": "ipython",
    "version": 3
   },
   "file_extension": ".py",
   "mimetype": "text/x-python",
   "name": "python",
   "nbconvert_exporter": "python",
   "pygments_lexer": "ipython3",
   "version": "3.13.2"
  }
 },
 "nbformat": 4,
 "nbformat_minor": 4
}
