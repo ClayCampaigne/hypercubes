{
 "cells": [
  {
   "cell_type": "code",
   "execution_count": 1,
   "metadata": {},
   "outputs": [],
   "source": [
    "import numpy as np\n",
    "import pandas as pd\n",
    "from itertools import product\n",
    "from copy import copy"
   ]
  },
  {
   "cell_type": "code",
   "execution_count": 2,
   "metadata": {},
   "outputs": [],
   "source": [
    "import bqplot"
   ]
  },
  {
   "cell_type": "code",
   "execution_count": 3,
   "metadata": {},
   "outputs": [],
   "source": [
    "import ipywidgets as widgets\n",
    "from ipywidgets import FloatSlider"
   ]
  },
  {
   "cell_type": "code",
   "execution_count": 4,
   "metadata": {},
   "outputs": [],
   "source": [
    "def rotmat(dim1, dim2, theta, ndims):\n",
    "    \"\"\"\n",
    "    Matrix for rotating dim1 into dim2 by theta degrees, \n",
    "    for a ndims-dimensional set of points\n",
    "    \"\"\"\n",
    "    mat = np.zeros((ndims,ndims), float)\n",
    "    mat[dim1, dim1] = np.cos(theta)\n",
    "    mat[dim2, dim2] = np.cos(theta)\n",
    "    mat[dim1, dim2] = np.sin(theta)\n",
    "    mat[dim2, dim1] = -np.sin(theta)\n",
    "    for dim in range(ndims):\n",
    "        if dim not in (dim1, dim2):\n",
    "            mat[dim,dim] = 1.\n",
    "    return mat"
   ]
  },
  {
   "cell_type": "code",
   "execution_count": 5,
   "metadata": {},
   "outputs": [],
   "source": [
    "class ndcube:\n",
    "    \"\"\"\n",
    "    Only the init method is specific to cubes\n",
    "    \"\"\"\n",
    "    def __init__(self, ndims=4, center=True, verbose=False):\n",
    "        self.ndims=ndims\n",
    "        self.v = [np.array(xyz) for xyz in product(*[[0.,1.],]*ndims)]\n",
    "        self.e = [] # the edges are the *indexes* of the vertices in the vertex list\n",
    "\n",
    "        # build list of edges quadratically by checking adjacency, for now\n",
    "        # only run once, so efficiency is not v important\n",
    "        for i in range(len(self.v)):\n",
    "            for j in range(i+1, len(self.v)):\n",
    "                if verbose:\n",
    "                    print(f\"comparing {self.v[i]} and {self.v[j]}\")\n",
    "                    print(f\"diff is {np.sum(np.abs(self.v[i] - self.v[j]))}\")\n",
    "                if np.sum(np.abs(self.v[i] - self.v[j])) == 1:\n",
    "                    self.e += [(i,j)]\n",
    "                    if verbose: print(f\"we added {self.v[i]} - {self.v[j]}\")\n",
    "        if center:\n",
    "            self.translate(np.array([-0.5]*self.ndims))\n",
    "            \n",
    "    def lintransform(self, matrix):\n",
    "        \"\"\"linearly transform the shape by multiplying all my vertices by matrix\"\"\"\n",
    "        for i in range(len(self.v)):\n",
    "            self.v[i] = matrix @ self.v[i]\n",
    "            \n",
    "    def translate(self, vector):\n",
    "        for i in range(len(self.v)):\n",
    "            self.v[i] += vector\n",
    "        \n",
    "    def get_edges(self):\n",
    "        return [(self.v[e[0]], self.v[e[1]]) for e in self.e]\n",
    "    \n",
    "    def parproject(self):\n",
    "        \"\"\"Parallel projection onto 2D: just return the first two coordinates of each point\"\"\"\n",
    "        return [(self.v[e[0]][:2], self.v[e[1]][0:2]) for e in self.e]\n",
    "    \n"
   ]
  },
  {
   "cell_type": "code",
   "execution_count": 6,
   "metadata": {},
   "outputs": [],
   "source": [
    "from bqplot import LinearScale, Axis, Lines, Figure\n",
    "x_sc = LinearScale()\n",
    "y_sc = LinearScale()\n",
    "ax_x = Axis(scale=x_sc)\n",
    "ax_y = Axis(scale=y_sc, orientation='vertical')\n",
    "x_sc.min = -2.0\n",
    "x_sc.max = 2.0\n",
    "y_sc.min = -2.0\n",
    "y_sc.max = 2.0"
   ]
  },
  {
   "cell_type": "code",
   "execution_count": 8,
   "metadata": {},
   "outputs": [],
   "source": [
    "ndims = 5\n",
    "mycube = ndcube(ndims=ndims)\n",
    "proj = mycube.parproject()\n",
    "lines = []\n",
    "for ed in proj:\n",
    "    lines += [Lines(x=[point[0] for point in ed], y =[point[1] for point in ed], scales={'x':x_sc, 'y':y_sc})]"
   ]
  },
  {
   "cell_type": "code",
   "execution_count": 11,
   "metadata": {},
   "outputs": [],
   "source": [
    "myfig = Figure(marks=lines, axes=[ax_x, ax_y], \n",
    "               title=f'{ndims}D cube manipulator', \n",
    "               animation_duration=100, figsize=(4,4),\n",
    "               min_aspect_ratio=1.0, max_aspect_ratio=1.0)\n",
    "\n",
    "sliders = [FloatSlider(min=0, max=2*np.pi, step=0.1,value=0)\n",
    "           for i in range(ndims-1)]\n",
    "slidervals = [copy(slider.value) for slider in sliders]\n",
    "\n",
    "\n",
    "def update_plot(change):\n",
    "    global slidervals \n",
    "    for i in range(ndims-1):\n",
    "        mycube.lintransform(rotmat(0,i+1,sliders[i].value - slidervals[i], ndims))\n",
    "\n",
    "    for i in range(ndims-1):\n",
    "        slidervals[i] = copy(sliders[i].value)\n",
    "\n",
    "    newproj = mycube.parproject()\n",
    "    for i in range(len(lines)):\n",
    "        lines[i].x = [elem[0] for elem in newproj[i]]\n",
    "        lines[i].y = [elem[1] for elem in newproj[i]]\n",
    "\n",
    "for slider in sliders:\n",
    "    slider.observe(update_plot, 'value')  "
   ]
  },
  {
   "cell_type": "code",
   "execution_count": 12,
   "metadata": {
    "scrolled": false
   },
   "outputs": [
    {
     "data": {
      "application/vnd.jupyter.widget-view+json": {
       "model_id": "7684174d8b89442485c680429c57674a",
       "version_major": 2,
       "version_minor": 0
      },
      "text/plain": [
       "VBox(children=(Figure(animation_duration=100, axes=[Axis(scale=LinearScale(max=2.0, min=-2.0), side='bottom'),…"
      ]
     },
     "metadata": {},
     "output_type": "display_data"
    }
   ],
   "source": [
    "sliderbox = widgets.VBox([slider for slider in sliders])\n",
    "wholething = widgets.VBox([myfig, sliderbox])\n",
    "display(wholething)"
   ]
  },
  {
   "cell_type": "markdown",
   "metadata": {},
   "source": [
    "Next up is hidden line removal, probably. (Or rather, make hidden lines dashed if I'm sticking with wireframes)"
   ]
  },
  {
   "cell_type": "code",
   "execution_count": null,
   "metadata": {},
   "outputs": [],
   "source": []
  }
 ],
 "metadata": {
  "@webio": {
   "lastCommId": null,
   "lastKernelId": null
  },
  "kernelspec": {
   "display_name": "Python 3",
   "language": "python",
   "name": "python3"
  },
  "language_info": {
   "codemirror_mode": {
    "name": "ipython",
    "version": 3
   },
   "file_extension": ".py",
   "mimetype": "text/x-python",
   "name": "python",
   "nbconvert_exporter": "python",
   "pygments_lexer": "ipython3",
   "version": "3.7.3"
  }
 },
 "nbformat": 4,
 "nbformat_minor": 4
}
